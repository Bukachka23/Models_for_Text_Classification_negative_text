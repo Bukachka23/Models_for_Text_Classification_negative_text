{
  "nbformat": 4,
  "nbformat_minor": 0,
  "metadata": {
    "colab": {
      "provenance": []
    },
    "kernelspec": {
      "name": "python3",
      "display_name": "Python 3"
    },
    "language_info": {
      "name": "python"
    }
  },
  "cells": [
    {
      "cell_type": "code",
      "execution_count": 2,
      "metadata": {
        "colab": {
          "base_uri": "https://localhost:8080/"
        },
        "id": "yQtsqrVemE92",
        "outputId": "bde0d3df-8c74-4637-fb04-f8921b88826c"
      },
      "outputs": [
        {
          "output_type": "stream",
          "name": "stdout",
          "text": [
            "Requirement already satisfied: pandas in /usr/local/lib/python3.10/dist-packages (1.5.3)\n",
            "Requirement already satisfied: python-dateutil>=2.8.1 in /usr/local/lib/python3.10/dist-packages (from pandas) (2.8.2)\n",
            "Requirement already satisfied: pytz>=2020.1 in /usr/local/lib/python3.10/dist-packages (from pandas) (2023.3)\n",
            "Requirement already satisfied: numpy>=1.21.0 in /usr/local/lib/python3.10/dist-packages (from pandas) (1.23.5)\n",
            "Requirement already satisfied: six>=1.5 in /usr/local/lib/python3.10/dist-packages (from python-dateutil>=2.8.1->pandas) (1.16.0)\n"
          ]
        }
      ],
      "source": [
        "!pip3 install pandas\n"
      ]
    },
    {
      "cell_type": "code",
      "source": [
        "!pip3 install matplotlib"
      ],
      "metadata": {
        "id": "D3V4BYsDmJWe",
        "colab": {
          "base_uri": "https://localhost:8080/"
        },
        "outputId": "25838ebb-a8d7-43c2-ffd7-833537a66e82"
      },
      "execution_count": 3,
      "outputs": [
        {
          "output_type": "stream",
          "name": "stdout",
          "text": [
            "Requirement already satisfied: matplotlib in /usr/local/lib/python3.10/dist-packages (3.7.1)\n",
            "Requirement already satisfied: contourpy>=1.0.1 in /usr/local/lib/python3.10/dist-packages (from matplotlib) (1.1.0)\n",
            "Requirement already satisfied: cycler>=0.10 in /usr/local/lib/python3.10/dist-packages (from matplotlib) (0.11.0)\n",
            "Requirement already satisfied: fonttools>=4.22.0 in /usr/local/lib/python3.10/dist-packages (from matplotlib) (4.42.1)\n",
            "Requirement already satisfied: kiwisolver>=1.0.1 in /usr/local/lib/python3.10/dist-packages (from matplotlib) (1.4.4)\n",
            "Requirement already satisfied: numpy>=1.20 in /usr/local/lib/python3.10/dist-packages (from matplotlib) (1.23.5)\n",
            "Requirement already satisfied: packaging>=20.0 in /usr/local/lib/python3.10/dist-packages (from matplotlib) (23.1)\n",
            "Requirement already satisfied: pillow>=6.2.0 in /usr/local/lib/python3.10/dist-packages (from matplotlib) (9.4.0)\n",
            "Requirement already satisfied: pyparsing>=2.3.1 in /usr/local/lib/python3.10/dist-packages (from matplotlib) (3.1.1)\n",
            "Requirement already satisfied: python-dateutil>=2.7 in /usr/local/lib/python3.10/dist-packages (from matplotlib) (2.8.2)\n",
            "Requirement already satisfied: six>=1.5 in /usr/local/lib/python3.10/dist-packages (from python-dateutil>=2.7->matplotlib) (1.16.0)\n"
          ]
        }
      ]
    },
    {
      "cell_type": "code",
      "source": [
        "!pip3 install numpy"
      ],
      "metadata": {
        "id": "gCIs_PwFmNhD",
        "colab": {
          "base_uri": "https://localhost:8080/"
        },
        "outputId": "158dae5d-099f-4065-bf02-049ca7796ea3"
      },
      "execution_count": 5,
      "outputs": [
        {
          "output_type": "stream",
          "name": "stdout",
          "text": [
            "Requirement already satisfied: numpy in /usr/local/lib/python3.10/dist-packages (1.23.5)\n"
          ]
        }
      ]
    },
    {
      "cell_type": "code",
      "source": [
        "!pip3 install tensorflow"
      ],
      "metadata": {
        "colab": {
          "base_uri": "https://localhost:8080/"
        },
        "id": "JPRnRXZtxxfS",
        "outputId": "e6714a26-d14f-45df-cd07-73f4bf469c73"
      },
      "execution_count": 27,
      "outputs": [
        {
          "output_type": "stream",
          "name": "stdout",
          "text": [
            "Requirement already satisfied: tensorflow in /usr/local/lib/python3.10/dist-packages (2.12.0)\n",
            "Requirement already satisfied: absl-py>=1.0.0 in /usr/local/lib/python3.10/dist-packages (from tensorflow) (1.4.0)\n",
            "Requirement already satisfied: astunparse>=1.6.0 in /usr/local/lib/python3.10/dist-packages (from tensorflow) (1.6.3)\n",
            "Requirement already satisfied: flatbuffers>=2.0 in /usr/local/lib/python3.10/dist-packages (from tensorflow) (23.5.26)\n",
            "Requirement already satisfied: gast<=0.4.0,>=0.2.1 in /usr/local/lib/python3.10/dist-packages (from tensorflow) (0.4.0)\n",
            "Requirement already satisfied: google-pasta>=0.1.1 in /usr/local/lib/python3.10/dist-packages (from tensorflow) (0.2.0)\n",
            "Requirement already satisfied: grpcio<2.0,>=1.24.3 in /usr/local/lib/python3.10/dist-packages (from tensorflow) (1.57.0)\n",
            "Requirement already satisfied: h5py>=2.9.0 in /usr/local/lib/python3.10/dist-packages (from tensorflow) (3.9.0)\n",
            "Requirement already satisfied: jax>=0.3.15 in /usr/local/lib/python3.10/dist-packages (from tensorflow) (0.4.14)\n",
            "Requirement already satisfied: keras<2.13,>=2.12.0 in /usr/local/lib/python3.10/dist-packages (from tensorflow) (2.12.0)\n",
            "Requirement already satisfied: libclang>=13.0.0 in /usr/local/lib/python3.10/dist-packages (from tensorflow) (16.0.6)\n",
            "Requirement already satisfied: numpy<1.24,>=1.22 in /usr/local/lib/python3.10/dist-packages (from tensorflow) (1.23.5)\n",
            "Requirement already satisfied: opt-einsum>=2.3.2 in /usr/local/lib/python3.10/dist-packages (from tensorflow) (3.3.0)\n",
            "Requirement already satisfied: packaging in /usr/local/lib/python3.10/dist-packages (from tensorflow) (23.1)\n",
            "Requirement already satisfied: protobuf!=4.21.0,!=4.21.1,!=4.21.2,!=4.21.3,!=4.21.4,!=4.21.5,<5.0.0dev,>=3.20.3 in /usr/local/lib/python3.10/dist-packages (from tensorflow) (3.20.3)\n",
            "Requirement already satisfied: setuptools in /usr/local/lib/python3.10/dist-packages (from tensorflow) (67.7.2)\n",
            "Requirement already satisfied: six>=1.12.0 in /usr/local/lib/python3.10/dist-packages (from tensorflow) (1.16.0)\n",
            "Requirement already satisfied: tensorboard<2.13,>=2.12 in /usr/local/lib/python3.10/dist-packages (from tensorflow) (2.12.3)\n",
            "Requirement already satisfied: tensorflow-estimator<2.13,>=2.12.0 in /usr/local/lib/python3.10/dist-packages (from tensorflow) (2.12.0)\n",
            "Requirement already satisfied: termcolor>=1.1.0 in /usr/local/lib/python3.10/dist-packages (from tensorflow) (2.3.0)\n",
            "Requirement already satisfied: typing-extensions>=3.6.6 in /usr/local/lib/python3.10/dist-packages (from tensorflow) (4.7.1)\n",
            "Requirement already satisfied: wrapt<1.15,>=1.11.0 in /usr/local/lib/python3.10/dist-packages (from tensorflow) (1.14.1)\n",
            "Requirement already satisfied: tensorflow-io-gcs-filesystem>=0.23.1 in /usr/local/lib/python3.10/dist-packages (from tensorflow) (0.33.0)\n",
            "Requirement already satisfied: wheel<1.0,>=0.23.0 in /usr/local/lib/python3.10/dist-packages (from astunparse>=1.6.0->tensorflow) (0.41.2)\n",
            "Requirement already satisfied: ml-dtypes>=0.2.0 in /usr/local/lib/python3.10/dist-packages (from jax>=0.3.15->tensorflow) (0.2.0)\n",
            "Requirement already satisfied: scipy>=1.7 in /usr/local/lib/python3.10/dist-packages (from jax>=0.3.15->tensorflow) (1.10.1)\n",
            "Requirement already satisfied: google-auth<3,>=1.6.3 in /usr/local/lib/python3.10/dist-packages (from tensorboard<2.13,>=2.12->tensorflow) (2.17.3)\n",
            "Requirement already satisfied: google-auth-oauthlib<1.1,>=0.5 in /usr/local/lib/python3.10/dist-packages (from tensorboard<2.13,>=2.12->tensorflow) (1.0.0)\n",
            "Requirement already satisfied: markdown>=2.6.8 in /usr/local/lib/python3.10/dist-packages (from tensorboard<2.13,>=2.12->tensorflow) (3.4.4)\n",
            "Requirement already satisfied: requests<3,>=2.21.0 in /usr/local/lib/python3.10/dist-packages (from tensorboard<2.13,>=2.12->tensorflow) (2.31.0)\n",
            "Requirement already satisfied: tensorboard-data-server<0.8.0,>=0.7.0 in /usr/local/lib/python3.10/dist-packages (from tensorboard<2.13,>=2.12->tensorflow) (0.7.1)\n",
            "Requirement already satisfied: werkzeug>=1.0.1 in /usr/local/lib/python3.10/dist-packages (from tensorboard<2.13,>=2.12->tensorflow) (2.3.7)\n",
            "Requirement already satisfied: cachetools<6.0,>=2.0.0 in /usr/local/lib/python3.10/dist-packages (from google-auth<3,>=1.6.3->tensorboard<2.13,>=2.12->tensorflow) (5.3.1)\n",
            "Requirement already satisfied: pyasn1-modules>=0.2.1 in /usr/local/lib/python3.10/dist-packages (from google-auth<3,>=1.6.3->tensorboard<2.13,>=2.12->tensorflow) (0.3.0)\n",
            "Requirement already satisfied: rsa<5,>=3.1.4 in /usr/local/lib/python3.10/dist-packages (from google-auth<3,>=1.6.3->tensorboard<2.13,>=2.12->tensorflow) (4.9)\n",
            "Requirement already satisfied: requests-oauthlib>=0.7.0 in /usr/local/lib/python3.10/dist-packages (from google-auth-oauthlib<1.1,>=0.5->tensorboard<2.13,>=2.12->tensorflow) (1.3.1)\n",
            "Requirement already satisfied: charset-normalizer<4,>=2 in /usr/local/lib/python3.10/dist-packages (from requests<3,>=2.21.0->tensorboard<2.13,>=2.12->tensorflow) (3.2.0)\n",
            "Requirement already satisfied: idna<4,>=2.5 in /usr/local/lib/python3.10/dist-packages (from requests<3,>=2.21.0->tensorboard<2.13,>=2.12->tensorflow) (3.4)\n",
            "Requirement already satisfied: urllib3<3,>=1.21.1 in /usr/local/lib/python3.10/dist-packages (from requests<3,>=2.21.0->tensorboard<2.13,>=2.12->tensorflow) (2.0.4)\n",
            "Requirement already satisfied: certifi>=2017.4.17 in /usr/local/lib/python3.10/dist-packages (from requests<3,>=2.21.0->tensorboard<2.13,>=2.12->tensorflow) (2023.7.22)\n",
            "Requirement already satisfied: MarkupSafe>=2.1.1 in /usr/local/lib/python3.10/dist-packages (from werkzeug>=1.0.1->tensorboard<2.13,>=2.12->tensorflow) (2.1.3)\n",
            "Requirement already satisfied: pyasn1<0.6.0,>=0.4.6 in /usr/local/lib/python3.10/dist-packages (from pyasn1-modules>=0.2.1->google-auth<3,>=1.6.3->tensorboard<2.13,>=2.12->tensorflow) (0.5.0)\n",
            "Requirement already satisfied: oauthlib>=3.0.0 in /usr/local/lib/python3.10/dist-packages (from requests-oauthlib>=0.7.0->google-auth-oauthlib<1.1,>=0.5->tensorboard<2.13,>=2.12->tensorflow) (3.2.2)\n"
          ]
        }
      ]
    },
    {
      "cell_type": "markdown",
      "source": [],
      "metadata": {
        "id": "Xofq2cWP2Oze"
      }
    },
    {
      "cell_type": "code",
      "source": [
        "!pip3 install keras"
      ],
      "metadata": {
        "colab": {
          "base_uri": "https://localhost:8080/"
        },
        "id": "MODF7YRX2Pe9",
        "outputId": "958123f8-df2f-4137-ebc7-e4a9dbd97e1b"
      },
      "execution_count": 34,
      "outputs": [
        {
          "output_type": "stream",
          "name": "stdout",
          "text": [
            "Requirement already satisfied: keras in /usr/local/lib/python3.10/dist-packages (2.12.0)\n"
          ]
        }
      ]
    },
    {
      "cell_type": "code",
      "source": [
        "import pandas as pd\n",
        "import matplotlib.pyplot as plt\n",
        "import numpy as np\n",
        "import tensorflow as tf\n",
        "import re\n",
        "import string\n",
        "import time\n",
        "import keras\n",
        "from sklearn.model_selection import train_test_split\n",
        "from tensorflow.keras.models import Sequential\n",
        "from tensorflow.keras.layers import Embedding, Dropout, GlobalAveragePooling1D, Dense, LSTM, GRU\n",
        "from tensorflow.keras.callbacks import Callback, TensorBoard, EarlyStopping"
      ],
      "metadata": {
        "id": "MU0UO9msskRs"
      },
      "execution_count": 69,
      "outputs": []
    },
    {
      "cell_type": "code",
      "source": [
        "data = pd.read_csv('/content/train.csv')\n",
        "train = pd.read_csv('/content/train.csv')\n"
      ],
      "metadata": {
        "id": "Ms25T87lsbLp"
      },
      "execution_count": 70,
      "outputs": []
    },
    {
      "cell_type": "code",
      "source": [
        "data['text_len'] = data['comment_text'].apply(lambda x: len(x.split(' ')))\n"
      ],
      "metadata": {
        "id": "SUc3MpY3sGO1"
      },
      "execution_count": 71,
      "outputs": []
    },
    {
      "cell_type": "code",
      "source": [
        "data.describe()"
      ],
      "metadata": {
        "colab": {
          "base_uri": "https://localhost:8080/",
          "height": 300
        },
        "id": "dH7Bx2Hks1aU",
        "outputId": "86047a3a-3dd9-4320-ede3-c09dcf518cc1"
      },
      "execution_count": 72,
      "outputs": [
        {
          "output_type": "execute_result",
          "data": {
            "text/plain": [
              "               toxic   severe_toxic        obscene         threat  \\\n",
              "count  159571.000000  159571.000000  159571.000000  159571.000000   \n",
              "mean        0.095844       0.009996       0.052948       0.002996   \n",
              "std         0.294379       0.099477       0.223931       0.054650   \n",
              "min         0.000000       0.000000       0.000000       0.000000   \n",
              "25%         0.000000       0.000000       0.000000       0.000000   \n",
              "50%         0.000000       0.000000       0.000000       0.000000   \n",
              "75%         0.000000       0.000000       0.000000       0.000000   \n",
              "max         1.000000       1.000000       1.000000       1.000000   \n",
              "\n",
              "              insult  identity_hate       text_len  \n",
              "count  159571.000000  159571.000000  159571.000000  \n",
              "mean        0.049364       0.008805      67.866962  \n",
              "std         0.216627       0.093420     100.520204  \n",
              "min         0.000000       0.000000       1.000000  \n",
              "25%         0.000000       0.000000      17.000000  \n",
              "50%         0.000000       0.000000      36.000000  \n",
              "75%         0.000000       0.000000      76.000000  \n",
              "max         1.000000       1.000000    2273.000000  "
            ],
            "text/html": [
              "\n",
              "  <div id=\"df-5709ebbb-4ac8-4214-95de-7eb18c950406\" class=\"colab-df-container\">\n",
              "    <div>\n",
              "<style scoped>\n",
              "    .dataframe tbody tr th:only-of-type {\n",
              "        vertical-align: middle;\n",
              "    }\n",
              "\n",
              "    .dataframe tbody tr th {\n",
              "        vertical-align: top;\n",
              "    }\n",
              "\n",
              "    .dataframe thead th {\n",
              "        text-align: right;\n",
              "    }\n",
              "</style>\n",
              "<table border=\"1\" class=\"dataframe\">\n",
              "  <thead>\n",
              "    <tr style=\"text-align: right;\">\n",
              "      <th></th>\n",
              "      <th>toxic</th>\n",
              "      <th>severe_toxic</th>\n",
              "      <th>obscene</th>\n",
              "      <th>threat</th>\n",
              "      <th>insult</th>\n",
              "      <th>identity_hate</th>\n",
              "      <th>text_len</th>\n",
              "    </tr>\n",
              "  </thead>\n",
              "  <tbody>\n",
              "    <tr>\n",
              "      <th>count</th>\n",
              "      <td>159571.000000</td>\n",
              "      <td>159571.000000</td>\n",
              "      <td>159571.000000</td>\n",
              "      <td>159571.000000</td>\n",
              "      <td>159571.000000</td>\n",
              "      <td>159571.000000</td>\n",
              "      <td>159571.000000</td>\n",
              "    </tr>\n",
              "    <tr>\n",
              "      <th>mean</th>\n",
              "      <td>0.095844</td>\n",
              "      <td>0.009996</td>\n",
              "      <td>0.052948</td>\n",
              "      <td>0.002996</td>\n",
              "      <td>0.049364</td>\n",
              "      <td>0.008805</td>\n",
              "      <td>67.866962</td>\n",
              "    </tr>\n",
              "    <tr>\n",
              "      <th>std</th>\n",
              "      <td>0.294379</td>\n",
              "      <td>0.099477</td>\n",
              "      <td>0.223931</td>\n",
              "      <td>0.054650</td>\n",
              "      <td>0.216627</td>\n",
              "      <td>0.093420</td>\n",
              "      <td>100.520204</td>\n",
              "    </tr>\n",
              "    <tr>\n",
              "      <th>min</th>\n",
              "      <td>0.000000</td>\n",
              "      <td>0.000000</td>\n",
              "      <td>0.000000</td>\n",
              "      <td>0.000000</td>\n",
              "      <td>0.000000</td>\n",
              "      <td>0.000000</td>\n",
              "      <td>1.000000</td>\n",
              "    </tr>\n",
              "    <tr>\n",
              "      <th>25%</th>\n",
              "      <td>0.000000</td>\n",
              "      <td>0.000000</td>\n",
              "      <td>0.000000</td>\n",
              "      <td>0.000000</td>\n",
              "      <td>0.000000</td>\n",
              "      <td>0.000000</td>\n",
              "      <td>17.000000</td>\n",
              "    </tr>\n",
              "    <tr>\n",
              "      <th>50%</th>\n",
              "      <td>0.000000</td>\n",
              "      <td>0.000000</td>\n",
              "      <td>0.000000</td>\n",
              "      <td>0.000000</td>\n",
              "      <td>0.000000</td>\n",
              "      <td>0.000000</td>\n",
              "      <td>36.000000</td>\n",
              "    </tr>\n",
              "    <tr>\n",
              "      <th>75%</th>\n",
              "      <td>0.000000</td>\n",
              "      <td>0.000000</td>\n",
              "      <td>0.000000</td>\n",
              "      <td>0.000000</td>\n",
              "      <td>0.000000</td>\n",
              "      <td>0.000000</td>\n",
              "      <td>76.000000</td>\n",
              "    </tr>\n",
              "    <tr>\n",
              "      <th>max</th>\n",
              "      <td>1.000000</td>\n",
              "      <td>1.000000</td>\n",
              "      <td>1.000000</td>\n",
              "      <td>1.000000</td>\n",
              "      <td>1.000000</td>\n",
              "      <td>1.000000</td>\n",
              "      <td>2273.000000</td>\n",
              "    </tr>\n",
              "  </tbody>\n",
              "</table>\n",
              "</div>\n",
              "    <div class=\"colab-df-buttons\">\n",
              "\n",
              "  <div class=\"colab-df-container\">\n",
              "    <button class=\"colab-df-convert\" onclick=\"convertToInteractive('df-5709ebbb-4ac8-4214-95de-7eb18c950406')\"\n",
              "            title=\"Convert this dataframe to an interactive table.\"\n",
              "            style=\"display:none;\">\n",
              "\n",
              "  <svg xmlns=\"http://www.w3.org/2000/svg\" height=\"24px\" viewBox=\"0 -960 960 960\">\n",
              "    <path d=\"M120-120v-720h720v720H120Zm60-500h600v-160H180v160Zm220 220h160v-160H400v160Zm0 220h160v-160H400v160ZM180-400h160v-160H180v160Zm440 0h160v-160H620v160ZM180-180h160v-160H180v160Zm440 0h160v-160H620v160Z\"/>\n",
              "  </svg>\n",
              "    </button>\n",
              "\n",
              "  <style>\n",
              "    .colab-df-container {\n",
              "      display:flex;\n",
              "      gap: 12px;\n",
              "    }\n",
              "\n",
              "    .colab-df-convert {\n",
              "      background-color: #E8F0FE;\n",
              "      border: none;\n",
              "      border-radius: 50%;\n",
              "      cursor: pointer;\n",
              "      display: none;\n",
              "      fill: #1967D2;\n",
              "      height: 32px;\n",
              "      padding: 0 0 0 0;\n",
              "      width: 32px;\n",
              "    }\n",
              "\n",
              "    .colab-df-convert:hover {\n",
              "      background-color: #E2EBFA;\n",
              "      box-shadow: 0px 1px 2px rgba(60, 64, 67, 0.3), 0px 1px 3px 1px rgba(60, 64, 67, 0.15);\n",
              "      fill: #174EA6;\n",
              "    }\n",
              "\n",
              "    .colab-df-buttons div {\n",
              "      margin-bottom: 4px;\n",
              "    }\n",
              "\n",
              "    [theme=dark] .colab-df-convert {\n",
              "      background-color: #3B4455;\n",
              "      fill: #D2E3FC;\n",
              "    }\n",
              "\n",
              "    [theme=dark] .colab-df-convert:hover {\n",
              "      background-color: #434B5C;\n",
              "      box-shadow: 0px 1px 3px 1px rgba(0, 0, 0, 0.15);\n",
              "      filter: drop-shadow(0px 1px 2px rgba(0, 0, 0, 0.3));\n",
              "      fill: #FFFFFF;\n",
              "    }\n",
              "  </style>\n",
              "\n",
              "    <script>\n",
              "      const buttonEl =\n",
              "        document.querySelector('#df-5709ebbb-4ac8-4214-95de-7eb18c950406 button.colab-df-convert');\n",
              "      buttonEl.style.display =\n",
              "        google.colab.kernel.accessAllowed ? 'block' : 'none';\n",
              "\n",
              "      async function convertToInteractive(key) {\n",
              "        const element = document.querySelector('#df-5709ebbb-4ac8-4214-95de-7eb18c950406');\n",
              "        const dataTable =\n",
              "          await google.colab.kernel.invokeFunction('convertToInteractive',\n",
              "                                                    [key], {});\n",
              "        if (!dataTable) return;\n",
              "\n",
              "        const docLinkHtml = 'Like what you see? Visit the ' +\n",
              "          '<a target=\"_blank\" href=https://colab.research.google.com/notebooks/data_table.ipynb>data table notebook</a>'\n",
              "          + ' to learn more about interactive tables.';\n",
              "        element.innerHTML = '';\n",
              "        dataTable['output_type'] = 'display_data';\n",
              "        await google.colab.output.renderOutput(dataTable, element);\n",
              "        const docLink = document.createElement('div');\n",
              "        docLink.innerHTML = docLinkHtml;\n",
              "        element.appendChild(docLink);\n",
              "      }\n",
              "    </script>\n",
              "  </div>\n",
              "\n",
              "\n",
              "<div id=\"df-ac265d63-c7df-44fa-9a23-5c1089f2f230\">\n",
              "  <button class=\"colab-df-quickchart\" onclick=\"quickchart('df-ac265d63-c7df-44fa-9a23-5c1089f2f230')\"\n",
              "            title=\"Suggest charts.\"\n",
              "            style=\"display:none;\">\n",
              "\n",
              "<svg xmlns=\"http://www.w3.org/2000/svg\" height=\"24px\"viewBox=\"0 0 24 24\"\n",
              "     width=\"24px\">\n",
              "    <g>\n",
              "        <path d=\"M19 3H5c-1.1 0-2 .9-2 2v14c0 1.1.9 2 2 2h14c1.1 0 2-.9 2-2V5c0-1.1-.9-2-2-2zM9 17H7v-7h2v7zm4 0h-2V7h2v10zm4 0h-2v-4h2v4z\"/>\n",
              "    </g>\n",
              "</svg>\n",
              "  </button>\n",
              "\n",
              "<style>\n",
              "  .colab-df-quickchart {\n",
              "    background-color: #E8F0FE;\n",
              "    border: none;\n",
              "    border-radius: 50%;\n",
              "    cursor: pointer;\n",
              "    display: none;\n",
              "    fill: #1967D2;\n",
              "    height: 32px;\n",
              "    padding: 0 0 0 0;\n",
              "    width: 32px;\n",
              "  }\n",
              "\n",
              "  .colab-df-quickchart:hover {\n",
              "    background-color: #E2EBFA;\n",
              "    box-shadow: 0px 1px 2px rgba(60, 64, 67, 0.3), 0px 1px 3px 1px rgba(60, 64, 67, 0.15);\n",
              "    fill: #174EA6;\n",
              "  }\n",
              "\n",
              "  [theme=dark] .colab-df-quickchart {\n",
              "    background-color: #3B4455;\n",
              "    fill: #D2E3FC;\n",
              "  }\n",
              "\n",
              "  [theme=dark] .colab-df-quickchart:hover {\n",
              "    background-color: #434B5C;\n",
              "    box-shadow: 0px 1px 3px 1px rgba(0, 0, 0, 0.15);\n",
              "    filter: drop-shadow(0px 1px 2px rgba(0, 0, 0, 0.3));\n",
              "    fill: #FFFFFF;\n",
              "  }\n",
              "</style>\n",
              "\n",
              "  <script>\n",
              "    async function quickchart(key) {\n",
              "      const charts = await google.colab.kernel.invokeFunction(\n",
              "          'suggestCharts', [key], {});\n",
              "    }\n",
              "    (() => {\n",
              "      let quickchartButtonEl =\n",
              "        document.querySelector('#df-ac265d63-c7df-44fa-9a23-5c1089f2f230 button');\n",
              "      quickchartButtonEl.style.display =\n",
              "        google.colab.kernel.accessAllowed ? 'block' : 'none';\n",
              "    })();\n",
              "  </script>\n",
              "</div>\n",
              "    </div>\n",
              "  </div>\n"
            ]
          },
          "metadata": {},
          "execution_count": 72
        }
      ]
    },
    {
      "cell_type": "code",
      "source": [
        "plt.hist(data['text_len'])"
      ],
      "metadata": {
        "colab": {
          "base_uri": "https://localhost:8080/",
          "height": 537
        },
        "id": "yAwtrsosteb4",
        "outputId": "1245ecf3-bbb7-4c8a-85bf-711b0cab8fcf"
      },
      "execution_count": 73,
      "outputs": [
        {
          "output_type": "execute_result",
          "data": {
            "text/plain": [
              "(array([1.51447e+05, 5.64800e+03, 1.53200e+03, 8.66000e+02, 5.10000e+01,\n",
              "        1.90000e+01, 5.00000e+00, 0.00000e+00, 2.00000e+00, 1.00000e+00]),\n",
              " array([1.0000e+00, 2.2820e+02, 4.5540e+02, 6.8260e+02, 9.0980e+02,\n",
              "        1.1370e+03, 1.3642e+03, 1.5914e+03, 1.8186e+03, 2.0458e+03,\n",
              "        2.2730e+03]),\n",
              " <BarContainer object of 10 artists>)"
            ]
          },
          "metadata": {},
          "execution_count": 73
        },
        {
          "output_type": "display_data",
          "data": {
            "text/plain": [
              "<Figure size 640x480 with 1 Axes>"
            ],
            "image/png": "[encoded data removed]"
          },
          "metadata": {}
        }
      ]
    },
    {
      "cell_type": "code",
      "source": [
        "# Check the number of words that are covered in our dataset\n",
        "count_250 = len(data.loc[data['text_len'] < 250, 'text_len'])\n",
        "count_500 = len(data.loc[data['text_len'] < 500, 'text_len'])\n",
        "print(count_250, count_500)"
      ],
      "metadata": {
        "colab": {
          "base_uri": "https://localhost:8080/"
        },
        "id": "_6spaLhIsGTd",
        "outputId": "c5d7f5a7-1ca6-432b-cdc3-f3b98b1a186f"
      },
      "execution_count": 74,
      "outputs": [
        {
          "output_type": "stream",
          "name": "stdout",
          "text": [
            "152730 157459\n"
          ]
        }
      ]
    },
    {
      "cell_type": "code",
      "source": [
        "# Let's find out the frequency of word repetition in the dataset\n",
        "data.loc[data['text_len'] > 1000, 'comment_text'].sample(1).values"
      ],
      "metadata": {
        "colab": {
          "base_uri": "https://localhost:8080/"
        },
        "id": "0-usWitkwXcu",
        "outputId": "20d32e13-731c-4975-fafd-249619cf2a90"
      },
      "execution_count": 75,
      "outputs": [
        {
          "output_type": "execute_result",
          "data": {
            "text/plain": [
              "array(['What is rong with you u pervert i ahte u just leave me alone and for ur info  i am 10 turning a 11 in one week on oct. 5 so go away i hate you i hate you i hate you i hate you  i hate you i hate you i hate you i hate you i hate you i hate you i hate you i hate you i hate you  i hate you i hate you i hate you i hate you i hate you i hate you i hate you i hate you i hate you  i hate you i hate you i hate you i hate you i hate you i hate you i hate you i hate you i hate you  i hate you i hate you i hate you i hate you i hate you i hate you i hate you i hate you i hate you  i hate you i hate you i hate you i hate you i hate you i hate you i hate you i hate you i hate you  i hate you i hate you i hate you i hate you i hate you i hate you i hate you i hate you i hate you  i hate you i hate you i hate you i hate you i hate you i hate you i hate you i hate you i hate you  i hate you i hate you i hate you i hate you i hate you i hate you i hate you i hate you i hate you  i hate you i hate you i hate you i hate you i hate you i hate you i hate you i hate you i hate you  i hate you i hate you i hate you i hate you i hate you i hate you i hate you i hate you i hate you  i hate you i hate you i hate you i hate you i hate you i hate you i hate you i hate you i hate you  i hate you i hate you i hate you i hate you i hate you i hate you i hate you i hate you i hate you  i hate you i hate you i hate you i hate you i hate you i hate you i hate you i hate you i hate you  i hate you i hate you i hate you i hate you i hate you i hate you i hate you i hate you i hate you  i hate you i hate you i hate you i hate you i hate you i hate you i hate you i hate you i hate you  i hate you i hate you i hate you i hate you i hate you i hate you i hate you i hate you i hate you  i hate you i hate you i hate you i hate you i hate you i hate you i hate you i hate you i hate you  i hate you i hate you i hate you i hate you i hate you i hate you i hate you i hate you i hate you  i hate you i hate you i hate you i hate you i hate you i hate you i hate you i hate you i hate you  i hate you i hate you i hate you i hate you i hate you i hate you i hate you i hate you i hate you  i hate you i hate you i hate you i hate you i hate you i hate you i hate you i hate you i hate you  i hate you i hate you i hate you i hate you i hate you i hate you i hate you i hate you i hate you  i hate you i hate you i hate you i hate you i hate you i hate you i hate you i hate you i hate you  i hate you i hate you i hate you i hate you i hate you i hate you i hate you i hate you i hate you  i hate you i hate you i hate you i hate you i hate you i hate you i hate you i hate you i hate you  i hate you i hate you i hate you i hate you i hate you i hate you i hate you i hate you i hate you  i hate you i hate you i hate you i hate you i hate you i hate you i hate you i hate you i hate you  i hate you i hate you i hate you i hate you i hate you i hate you i hate you i hate you i hate you  i hate you i hate you i hate you i hate you i hate you i hate you i hate you i hate you i hate you  i hate you i hate you i hate you i hate you i hate you i hate you i hate you i hate you i hate you  i hate you i hate you i hate you i hate you i hate you i hate you i hate you i hate you i hate you  i hate you i hate you i hate you i hate you i hate you i hate you i hate you i hate you i hate you  i hate you i hate you i hate you i hate you i hate you i hate you i hate you i hate you i hate you  i hate you i hate you i hate you i hate you i hate you i hate you i hate you i hate you i hate you  i hate you i hate you i hate you i hate you i hate you i hate you i hate you i hate you i hate you  i hate you i hate you i hate you i hate you i hate you i hate you i hate you i hate you i hate you  i hate you i hate you i hate you i hate you i hate you i hate you i hate you i hate you i hate you  i hate you i hate you i hate you i hate you i hate you i hate you i hate you i hate you i hate you  i hate you i hate you i hate you i hate you i hate you i hate you i hate you i hate you i hate you  i hate you i hate you i hate you i hate you i hate you i hate you i hate you i hate you i hate you  i hate you i hate you i hate you i hate you i hate you i hate you i hate you i hate you i hate you  i hate you i hate you i hate you i hate you i hate you i hate you i hate you i hate you i hate you  i hate you i hate you i hate you i hate you i hate you i hate you i hate you i hate you i hate you  i hate you i hate you i hate you i hate you i hate you i hate you i hate you i hate you i hate you  i hate you i hate you i hate you i hate you i hate you i hate you i hate you i hate you i hate you  i hate you i hate you i hate you i hate you i hate you i hate you i hate you i hate you i hate you  i hate you i hate you i hate you i hate you i hate you i hate you i hate you i hate you i hate you  i hate you i hate you i hate you i hate you i hate you i hate you i hate you i hate you i hate you  i hate yo'],\n",
              "      dtype=object)"
            ]
          },
          "metadata": {},
          "execution_count": 75
        }
      ]
    },
    {
      "cell_type": "code",
      "source": [
        "max_features = 10000\n",
        "sequence_length = 200\n",
        "\n",
        "# Function that converts text to one form\n",
        "def custom_standardization(sentence):\n",
        "  sample = tf.strings.lower(sentence)\n",
        "  sample = tf.strings.regex_replace(sample, '\\W', ' ')\n",
        "  sample = tf.strings.regex_replace(sample, '\\d', ' ')\n",
        "  return tf.strings.regex_replace(sample, '[%s]'%re.escape(string.punctuation), '')\n"
      ],
      "metadata": {
        "id": "YrTuTDmjwXf1"
      },
      "execution_count": 76,
      "outputs": []
    },
    {
      "cell_type": "code",
      "source": [
        "vectorize_layer = tf.keras.layers.TextVectorization(\n",
        "                        standardize=custom_standardization,\n",
        "                        split='whitespace',\n",
        "                        max_tokens=max_features,\n",
        "                        output_mode='int',\n",
        "                        output_sequence_length=sequence_length,\n",
        "                        encoding='utf-8')\n",
        "vectorize_layer.adapt(train['comment_text'])"
      ],
      "metadata": {
        "id": "LrmOJWG4wXiK"
      },
      "execution_count": 77,
      "outputs": []
    },
    {
      "cell_type": "code",
      "source": [
        "X = train['comment_text']\n",
        "Y = train[train.columns[2:-1]]\n",
        "X = np.array(vectorize_layer(X))\n",
        "\n",
        "X_train, X_test, y_train, y_test = train_test_split(X, Y, test_size = 0.2)"
      ],
      "metadata": {
        "id": "rQhEXnblwXj_"
      },
      "execution_count": 78,
      "outputs": []
    },
    {
      "cell_type": "code",
      "source": [
        "# We build a neural network model with long short-term memory (LSTM)\n",
        "# and evaluate its running time and accuracy:\n",
        "\n",
        "# Define the dimension of the embedding\n",
        "embedding_dim = 9\n",
        "# Create a Sequential model\n",
        "cnn_model = Sequential()\n",
        "# Add an Embedding layer\n",
        "cnn_model.add(Embedding(max_features+1, embedding_dim))\n",
        "# Add a Dropout layer to prevent overfitting\n",
        "cnn_model.add(Dropout(0.2))\n",
        "# Add a GlobalAveragePooling1D layer\n",
        "cnn_model.add(GlobalAveragePooling1D())\n",
        "# Add another Dropout layer\n",
        "cnn_model.add(Dropout(0.2))\n",
        "# Add a fully connected Dense layer with ReLU activation\n",
        "cnn_model.add(Dense(16, activation='relu'))\n",
        "# Add a final Dense layer with sigmoid activation for multi-label classification\n",
        "cnn_model.add(Dense(6, activation='sigmoid'))\n",
        "\n",
        "cnn_model.compile(\n",
        "    # Use binary cross-entropy loss for multi-label classification\n",
        "    loss='binary_crossentropy',\n",
        "    # Use the Adam optimizer\n",
        "    optimizer='Adam',\n",
        "    # Track accuracy during training\n",
        "    metrics=['accuracy']\n",
        ")\n",
        "\n"
      ],
      "metadata": {
        "id": "gjGD0Dfm4atg"
      },
      "execution_count": 79,
      "outputs": []
    },
    {
      "cell_type": "code",
      "source": [
        "# Number of epochs to train the LSTM model\n",
        "lstm_epochs = 5\n",
        "# Create a Sequential model\n",
        "lstm_model = Sequential()\n",
        "# Add an Embedding layer\n",
        "lstm_model.add(Embedding(max_features+1, embedding_dim))\n",
        "# Add an LSTM layer with 16 units\n",
        "lstm_model.add(LSTM(16))\n",
        "# Add a Dropout layer to prevent overfitting\n",
        "lstm_model.add(Dropout(0.2))\n",
        "# Add a fully connected Dense layer with ReLU activation\n",
        "lstm_model.add(Dense(16, activation='relu'))\n",
        "# Add a final Dense layer with sigmoid activation for multi-label classification\n",
        "lstm_model.add(Dense(6, activation='sigmoid'))\n",
        "\n",
        "lstm_model.compile(\n",
        "    # Use binary cross-entropy loss for multi-label classification\n",
        "    loss='binary_crossentropy',\n",
        "    # Use the Adam optimizer\n",
        "    optimizer='Adam',\n",
        "     # Track accuracy during training\n",
        "    metrics=['accuracy']\n",
        ")\n",
        "# Display a summary of the model's architecture\n",
        "lstm_model.summary()\n"
      ],
      "metadata": {
        "colab": {
          "base_uri": "https://localhost:8080/"
        },
        "id": "WxJdKPwC5vCS",
        "outputId": "63abbf18-f41b-4731-df12-1b9a8986e8fe"
      },
      "execution_count": 66,
      "outputs": [
        {
          "output_type": "stream",
          "name": "stdout",
          "text": [
            "Model: \"sequential_12\"\n",
            "_________________________________________________________________\n",
            " Layer (type)                Output Shape              Param #   \n",
            "=================================================================\n",
            " embedding_12 (Embedding)    (None, None, 9)           90009     \n",
            "                                                                 \n",
            " lstm_2 (LSTM)               (None, 16)                1664      \n",
            "                                                                 \n",
            " dropout_15 (Dropout)        (None, 16)                0         \n",
            "                                                                 \n",
            " dense_18 (Dense)            (None, 16)                272       \n",
            "                                                                 \n",
            " dense_19 (Dense)            (None, 6)                 102       \n",
            "                                                                 \n",
            "=================================================================\n",
            "Total params: 92,047\n",
            "Trainable params: 92,047\n",
            "Non-trainable params: 0\n",
            "_________________________________________________________________\n"
          ]
        }
      ]
    },
    {
      "cell_type": "code",
      "source": [
        "# Number of epochs to train the GRU model\n",
        "gru_epochs = 5\n",
        "# Create a Sequential model\n",
        "gru_model = Sequential()\n",
        "# Add an Embedding layer\n",
        "gru_model.add(Embedding(max_features+1, embedding_dim))\n",
        "# Add a GRU layer with 16 units\n",
        "gru_model.add(GRU(16))\n",
        "# Add a Dropout layer to prevent overfitting\n",
        "gru_model.add(Dropout(0.2))\n",
        "# Add a fully connected Dense layer with ReLU activation\n",
        "gru_model.add(Dense(16, activation='relu'))\n",
        "# Add a final Dense layer with sigmoid activation for multi-label classification\n",
        "gru_model.add(Dense(6, activation='sigmoid'))\n",
        "\n",
        "gru_model.compile(\n",
        "    # Use binary cross-entropy loss for multi-label classification\n",
        "    loss='binary_crossentropy',\n",
        "    # Use the Adam optimizer\n",
        "    optimizer='Adam',\n",
        "    # Track accuracy during training\n",
        "    metrics=['accuracy']\n",
        ")\n",
        "# Display a summary of the model's architecture\n",
        "gru_model.summary()\n"
      ],
      "metadata": {
        "colab": {
          "base_uri": "https://localhost:8080/"
        },
        "id": "UskSNadX5vNv",
        "outputId": "c90892ef-c9d6-443b-da6d-058aa58d3dc1"
      },
      "execution_count": 67,
      "outputs": [
        {
          "output_type": "stream",
          "name": "stdout",
          "text": [
            "Model: \"sequential_13\"\n",
            "_________________________________________________________________\n",
            " Layer (type)                Output Shape              Param #   \n",
            "=================================================================\n",
            " embedding_13 (Embedding)    (None, None, 9)           90009     \n",
            "                                                                 \n",
            " gru_1 (GRU)                 (None, 16)                1296      \n",
            "                                                                 \n",
            " dropout_16 (Dropout)        (None, 16)                0         \n",
            "                                                                 \n",
            " dense_20 (Dense)            (None, 16)                272       \n",
            "                                                                 \n",
            " dense_21 (Dense)            (None, 6)                 102       \n",
            "                                                                 \n",
            "=================================================================\n",
            "Total params: 91,679\n",
            "Trainable params: 91,679\n",
            "Non-trainable params: 0\n",
            "_________________________________________________________________\n"
          ]
        }
      ]
    }
  ]
}